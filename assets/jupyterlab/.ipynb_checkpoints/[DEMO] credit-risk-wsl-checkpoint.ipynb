{
 "cells": [
  {
   "cell_type": "markdown",
   "metadata": {},
   "source": [
    "<h2>Creating model for <i>risk default</i> probability assessment"
   ]
  },
  {
   "cell_type": "code",
   "execution_count": null,
   "metadata": {},
   "outputs": [],
   "source": [
    "import pandas as pd\n",
    "\n",
    "df_data = pd.read_csv('/project_data/data_asset/german_credit_data_complete.csv')\n",
    "df_data.head()"
   ]
  },
  {
   "cell_type": "markdown",
   "metadata": {},
   "source": [
    "<h4>Explore data</h4>"
   ]
  },
  {
   "cell_type": "code",
   "execution_count": null,
   "metadata": {
    "scrolled": true
   },
   "outputs": [],
   "source": [
    "print(\"Number of records: \" + str((df_data.shape[0])))"
   ]
  },
  {
   "cell_type": "markdown",
   "metadata": {},
   "source": [
    "<h4> Create a model </h4>"
   ]
  },
  {
   "cell_type": "code",
   "execution_count": null,
   "metadata": {},
   "outputs": [],
   "source": [
    "from sklearn.model_selection import train_test_split\n",
    "from sklearn.preprocessing import LabelEncoder"
   ]
  },
  {
   "cell_type": "code",
   "execution_count": null,
   "metadata": {},
   "outputs": [],
   "source": [
    "df_data[\"CheckingStatus\"] = LabelEncoder().fit_transform(df_data[\"CheckingStatus\"])\n",
    "df_data[\"CreditHistory\"] = LabelEncoder().fit_transform(df_data[\"CreditHistory\"])\n",
    "df_data[\"LoanPurpose\"] = LabelEncoder().fit_transform(df_data[\"LoanPurpose\"])\n",
    "df_data[\"ExistingSavings\"] = LabelEncoder().fit_transform(df_data[\"ExistingSavings\"])\n",
    "df_data[\"EmploymentDuration\"] = LabelEncoder().fit_transform(df_data[\"EmploymentDuration\"])\n",
    "df_data[\"Sex\"] = LabelEncoder().fit_transform(df_data[\"Sex\"])\n",
    "df_data[\"OthersOnLoan\"] = LabelEncoder().fit_transform(df_data[\"OthersOnLoan\"])\n",
    "df_data[\"OwnsProperty\"] = LabelEncoder().fit_transform(df_data[\"OwnsProperty\"])\n",
    "df_data[\"InstallmentPlans\"] = LabelEncoder().fit_transform(df_data[\"InstallmentPlans\"])\n",
    "df_data[\"Housing\"] = LabelEncoder().fit_transform(df_data[\"Housing\"])\n",
    "df_data[\"Job\"] = LabelEncoder().fit_transform(df_data[\"Job\"])\n",
    "df_data[\"Telephone\"] = LabelEncoder().fit_transform(df_data[\"Telephone\"])\n",
    "df_data[\"ForeignWorker\"] = LabelEncoder().fit_transform(df_data[\"ForeignWorker\"])\n",
    "df_data[\"Risk\"] = LabelEncoder().fit_transform(df_data[\"Risk\"])"
   ]
  },
  {
   "cell_type": "code",
   "execution_count": null,
   "metadata": {},
   "outputs": [],
   "source": [
    "(train_data, test_data) = train_test_split(df_data, test_size = 0.2, stratify = df_data[\"Risk\"])\n",
    "\n",
    "print(\"Number of records for training: \" + str(train_data.shape[0]))\n",
    "print(\"Number of records for evaluation: \" + str(test_data.shape[0]))"
   ]
  },
  {
   "cell_type": "code",
   "execution_count": null,
   "metadata": {
    "scrolled": true
   },
   "outputs": [],
   "source": [
    "from sklearn.ensemble import RandomForestClassifier"
   ]
  },
  {
   "cell_type": "code",
   "execution_count": null,
   "metadata": {},
   "outputs": [],
   "source": [
    "rf = RandomForestClassifier(n_estimators = 100)\n",
    "rf.fit(train_data.loc[:, train_data.columns != \"Risk\"], train_data[\"Risk\"])"
   ]
  },
  {
   "cell_type": "code",
   "execution_count": null,
   "metadata": {
    "scrolled": true
   },
   "outputs": [],
   "source": [
    "from sklearn.metrics import roc_auc_score\n",
    "\n",
    "predictions = rf.predict(test_data.loc[:,test_data.columns != \"Risk\"])\n",
    "area_under_curve = roc_auc_score(test_data[\"Risk\"], predictions)\n",
    "\n",
    "print(\"areaUnderROC = %g\" % area_under_curve)"
   ]
  },
  {
   "cell_type": "markdown",
   "metadata": {},
   "source": [
    "<h4>Publish the model as asset</h4>"
   ]
  },
  {
   "cell_type": "code",
   "execution_count": null,
   "metadata": {},
   "outputs": [],
   "source": [
    "!pip install watson-machine-learning-client-V4"
   ]
  },
  {
   "cell_type": "code",
   "execution_count": null,
   "metadata": {},
   "outputs": [],
   "source": [
    "import sys,os,os.path\n",
    "token = os.environ['USER_ACCESS_TOKEN']\n",
    "\n",
    "wml_credentials = {\n",
    "\"token\": token,\n",
    "\"instance_id\" : \"wml_local\",\n",
    "\"url\": \"https://mlpattern.184.170.232.151.nip.io\",\n",
    "\"version\": \"2.5.0\"\n",
    "}"
   ]
  },
  {
   "cell_type": "code",
   "execution_count": null,
   "metadata": {},
   "outputs": [],
   "source": [
    "from watson_machine_learning_client import WatsonMachineLearningAPIClient\n",
    "\n",
    "wml_client = WatsonMachineLearningAPIClient( wml_credentials )"
   ]
  },
  {
   "cell_type": "code",
   "execution_count": null,
   "metadata": {},
   "outputs": [],
   "source": [
    "MODEL_NAME = \"[DEMO] Credit Risk RF\""
   ]
  },
  {
   "cell_type": "code",
   "execution_count": null,
   "metadata": {},
   "outputs": [],
   "source": [
    "def guid_from_space_name(client, space_name):\n",
    "    instance_details = client.service_instance.get_details()\n",
    "    space = client.spaces.get_details()\n",
    "    return(next(item for item in space['resources'] if item['entity'][\"name\"] == space_name)['metadata']['guid'])"
   ]
  },
  {
   "cell_type": "code",
   "execution_count": null,
   "metadata": {},
   "outputs": [],
   "source": [
    "space_uid = guid_from_space_name(wml_client, 'wsl_jupyterlab_demo')"
   ]
  },
  {
   "cell_type": "code",
   "execution_count": null,
   "metadata": {},
   "outputs": [],
   "source": [
    "meta_props={\n",
    "    client.repository.ModelMetaNames.NAME: \"Credit Risk Scikit\",\n",
    "    client.repository.ModelMetaNames.RUNTIME_UID: \"scikit-learn_0.20-py3.6\",\n",
    "    client.repository.ModelMetaNames.TYPE: \"scikit-learn_0.20\",     \n",
    "    client.repository.ModelMetaNames.SPACE_UID: space_uid\n",
    "}"
   ]
  },
  {
   "cell_type": "code",
   "execution_count": null,
   "metadata": {},
   "outputs": [],
   "source": [
    "model_artifact = client.repository.store_model(rf,\n",
    "                                                meta_props=meta_props,\n",
    "                                                training_data=train_data.loc[:, train_data.columns != \"Risk\"],\n",
    "                                                training_target=train_data[\"Risk\"])\n",
    "model_uid = client.repository.get_model_uid(model_artifact)\n",
    "print(\"Model UID = \" + model_uid)"
   ]
  },
  {
   "cell_type": "code",
   "execution_count": null,
   "metadata": {},
   "outputs": [],
   "source": [
    "model_details = client.repository.get_details(model_uid)\n",
    "from pprint import pprint\n",
    "pprint(model_details)"
   ]
  }
 ],
 "metadata": {
  "kernelspec": {
   "display_name": "Python 3.6",
   "language": "python",
   "name": "python3"
  },
  "language_info": {
   "codemirror_mode": {
    "name": "ipython",
    "version": 3
   },
   "file_extension": ".py",
   "mimetype": "text/x-python",
   "name": "python",
   "nbconvert_exporter": "python",
   "pygments_lexer": "ipython3",
   "version": "3.6.8"
  }
 },
 "nbformat": 4,
 "nbformat_minor": 4
}
