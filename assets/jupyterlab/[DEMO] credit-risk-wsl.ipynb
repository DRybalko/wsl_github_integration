{
 "cells": [
  {
   "cell_type": "markdown",
   "metadata": {},
   "source": [
    "<h2>Creating model for <i>risk default</i> probability assessment"
   ]
  },
  {
   "cell_type": "code",
   "execution_count": 1,
   "metadata": {},
   "outputs": [
    {
     "data": {
      "text/html": [
       "<div>\n",
       "<style scoped>\n",
       "    .dataframe tbody tr th:only-of-type {\n",
       "        vertical-align: middle;\n",
       "    }\n",
       "\n",
       "    .dataframe tbody tr th {\n",
       "        vertical-align: top;\n",
       "    }\n",
       "\n",
       "    .dataframe thead th {\n",
       "        text-align: right;\n",
       "    }\n",
       "</style>\n",
       "<table border=\"1\" class=\"dataframe\">\n",
       "  <thead>\n",
       "    <tr style=\"text-align: right;\">\n",
       "      <th></th>\n",
       "      <th>CheckingStatus</th>\n",
       "      <th>LoanDuration</th>\n",
       "      <th>CreditHistory</th>\n",
       "      <th>LoanPurpose</th>\n",
       "      <th>LoanAmount</th>\n",
       "      <th>ExistingSavings</th>\n",
       "      <th>EmploymentDuration</th>\n",
       "      <th>InstallmentPercent</th>\n",
       "      <th>Sex</th>\n",
       "      <th>OthersOnLoan</th>\n",
       "      <th>...</th>\n",
       "      <th>OwnsProperty</th>\n",
       "      <th>Age</th>\n",
       "      <th>InstallmentPlans</th>\n",
       "      <th>Housing</th>\n",
       "      <th>ExistingCreditsCount</th>\n",
       "      <th>Job</th>\n",
       "      <th>Dependents</th>\n",
       "      <th>Telephone</th>\n",
       "      <th>ForeignWorker</th>\n",
       "      <th>Risk</th>\n",
       "    </tr>\n",
       "  </thead>\n",
       "  <tbody>\n",
       "    <tr>\n",
       "      <th>0</th>\n",
       "      <td>0_to_200</td>\n",
       "      <td>31</td>\n",
       "      <td>credits_paid_to_date</td>\n",
       "      <td>other</td>\n",
       "      <td>1889</td>\n",
       "      <td>100_to_500</td>\n",
       "      <td>less_1</td>\n",
       "      <td>3</td>\n",
       "      <td>female</td>\n",
       "      <td>none</td>\n",
       "      <td>...</td>\n",
       "      <td>savings_insurance</td>\n",
       "      <td>32</td>\n",
       "      <td>none</td>\n",
       "      <td>own</td>\n",
       "      <td>1</td>\n",
       "      <td>skilled</td>\n",
       "      <td>1</td>\n",
       "      <td>none</td>\n",
       "      <td>yes</td>\n",
       "      <td>No Risk</td>\n",
       "    </tr>\n",
       "    <tr>\n",
       "      <th>1</th>\n",
       "      <td>less_0</td>\n",
       "      <td>18</td>\n",
       "      <td>credits_paid_to_date</td>\n",
       "      <td>car_new</td>\n",
       "      <td>462</td>\n",
       "      <td>less_100</td>\n",
       "      <td>1_to_4</td>\n",
       "      <td>2</td>\n",
       "      <td>female</td>\n",
       "      <td>none</td>\n",
       "      <td>...</td>\n",
       "      <td>savings_insurance</td>\n",
       "      <td>37</td>\n",
       "      <td>stores</td>\n",
       "      <td>own</td>\n",
       "      <td>2</td>\n",
       "      <td>skilled</td>\n",
       "      <td>1</td>\n",
       "      <td>none</td>\n",
       "      <td>yes</td>\n",
       "      <td>No Risk</td>\n",
       "    </tr>\n",
       "    <tr>\n",
       "      <th>2</th>\n",
       "      <td>less_0</td>\n",
       "      <td>15</td>\n",
       "      <td>prior_payments_delayed</td>\n",
       "      <td>furniture</td>\n",
       "      <td>250</td>\n",
       "      <td>less_100</td>\n",
       "      <td>1_to_4</td>\n",
       "      <td>2</td>\n",
       "      <td>male</td>\n",
       "      <td>none</td>\n",
       "      <td>...</td>\n",
       "      <td>real_estate</td>\n",
       "      <td>28</td>\n",
       "      <td>none</td>\n",
       "      <td>own</td>\n",
       "      <td>2</td>\n",
       "      <td>skilled</td>\n",
       "      <td>1</td>\n",
       "      <td>yes</td>\n",
       "      <td>no</td>\n",
       "      <td>No Risk</td>\n",
       "    </tr>\n",
       "    <tr>\n",
       "      <th>3</th>\n",
       "      <td>0_to_200</td>\n",
       "      <td>28</td>\n",
       "      <td>credits_paid_to_date</td>\n",
       "      <td>retraining</td>\n",
       "      <td>3693</td>\n",
       "      <td>less_100</td>\n",
       "      <td>greater_7</td>\n",
       "      <td>3</td>\n",
       "      <td>male</td>\n",
       "      <td>none</td>\n",
       "      <td>...</td>\n",
       "      <td>savings_insurance</td>\n",
       "      <td>32</td>\n",
       "      <td>none</td>\n",
       "      <td>own</td>\n",
       "      <td>1</td>\n",
       "      <td>skilled</td>\n",
       "      <td>1</td>\n",
       "      <td>none</td>\n",
       "      <td>yes</td>\n",
       "      <td>No Risk</td>\n",
       "    </tr>\n",
       "    <tr>\n",
       "      <th>4</th>\n",
       "      <td>no_checking</td>\n",
       "      <td>28</td>\n",
       "      <td>prior_payments_delayed</td>\n",
       "      <td>education</td>\n",
       "      <td>6235</td>\n",
       "      <td>500_to_1000</td>\n",
       "      <td>greater_7</td>\n",
       "      <td>3</td>\n",
       "      <td>male</td>\n",
       "      <td>none</td>\n",
       "      <td>...</td>\n",
       "      <td>unknown</td>\n",
       "      <td>57</td>\n",
       "      <td>none</td>\n",
       "      <td>own</td>\n",
       "      <td>2</td>\n",
       "      <td>skilled</td>\n",
       "      <td>1</td>\n",
       "      <td>none</td>\n",
       "      <td>yes</td>\n",
       "      <td>Risk</td>\n",
       "    </tr>\n",
       "  </tbody>\n",
       "</table>\n",
       "<p>5 rows × 21 columns</p>\n",
       "</div>"
      ],
      "text/plain": [
       "  CheckingStatus  LoanDuration           CreditHistory LoanPurpose  \\\n",
       "0       0_to_200            31    credits_paid_to_date       other   \n",
       "1         less_0            18    credits_paid_to_date     car_new   \n",
       "2         less_0            15  prior_payments_delayed   furniture   \n",
       "3       0_to_200            28    credits_paid_to_date  retraining   \n",
       "4    no_checking            28  prior_payments_delayed   education   \n",
       "\n",
       "   LoanAmount ExistingSavings EmploymentDuration  InstallmentPercent     Sex  \\\n",
       "0        1889      100_to_500             less_1                   3  female   \n",
       "1         462        less_100             1_to_4                   2  female   \n",
       "2         250        less_100             1_to_4                   2    male   \n",
       "3        3693        less_100          greater_7                   3    male   \n",
       "4        6235     500_to_1000          greater_7                   3    male   \n",
       "\n",
       "  OthersOnLoan  ...       OwnsProperty Age  InstallmentPlans Housing  \\\n",
       "0         none  ...  savings_insurance  32              none     own   \n",
       "1         none  ...  savings_insurance  37            stores     own   \n",
       "2         none  ...        real_estate  28              none     own   \n",
       "3         none  ...  savings_insurance  32              none     own   \n",
       "4         none  ...            unknown  57              none     own   \n",
       "\n",
       "  ExistingCreditsCount      Job Dependents  Telephone ForeignWorker     Risk  \n",
       "0                    1  skilled          1       none           yes  No Risk  \n",
       "1                    2  skilled          1       none           yes  No Risk  \n",
       "2                    2  skilled          1        yes            no  No Risk  \n",
       "3                    1  skilled          1       none           yes  No Risk  \n",
       "4                    2  skilled          1       none           yes     Risk  \n",
       "\n",
       "[5 rows x 21 columns]"
      ]
     },
     "execution_count": 1,
     "metadata": {},
     "output_type": "execute_result"
    }
   ],
   "source": [
    "import pandas as pd\n",
    "\n",
    "df_data = pd.read_csv('/project_data/data_asset/german_credit_data_complete.csv')\n",
    "df_data.head()"
   ]
  },
  {
   "cell_type": "markdown",
   "metadata": {},
   "source": [
    "<h4>Explore data</h4>"
   ]
  },
  {
   "cell_type": "code",
   "execution_count": 2,
   "metadata": {
    "scrolled": true
   },
   "outputs": [
    {
     "name": "stdout",
     "output_type": "stream",
     "text": [
      "Number of records: 5000\n"
     ]
    }
   ],
   "source": [
    "print(\"Number of records: \" + str((df_data.shape[0])))"
   ]
  },
  {
   "cell_type": "markdown",
   "metadata": {},
   "source": [
    "<h4> Create a model </h4>"
   ]
  },
  {
   "cell_type": "code",
   "execution_count": 3,
   "metadata": {},
   "outputs": [],
   "source": [
    "from sklearn.model_selection import train_test_split\n",
    "from sklearn.preprocessing import LabelEncoder"
   ]
  },
  {
   "cell_type": "code",
   "execution_count": 4,
   "metadata": {},
   "outputs": [],
   "source": [
    "df_data[\"CheckingStatus\"] = LabelEncoder().fit_transform(df_data[\"CheckingStatus\"])\n",
    "df_data[\"CreditHistory\"] = LabelEncoder().fit_transform(df_data[\"CreditHistory\"])\n",
    "df_data[\"LoanPurpose\"] = LabelEncoder().fit_transform(df_data[\"LoanPurpose\"])\n",
    "df_data[\"ExistingSavings\"] = LabelEncoder().fit_transform(df_data[\"ExistingSavings\"])\n",
    "df_data[\"EmploymentDuration\"] = LabelEncoder().fit_transform(df_data[\"EmploymentDuration\"])\n",
    "df_data[\"Sex\"] = LabelEncoder().fit_transform(df_data[\"Sex\"])\n",
    "df_data[\"OthersOnLoan\"] = LabelEncoder().fit_transform(df_data[\"OthersOnLoan\"])\n",
    "df_data[\"OwnsProperty\"] = LabelEncoder().fit_transform(df_data[\"OwnsProperty\"])\n",
    "df_data[\"InstallmentPlans\"] = LabelEncoder().fit_transform(df_data[\"InstallmentPlans\"])\n",
    "df_data[\"Housing\"] = LabelEncoder().fit_transform(df_data[\"Housing\"])\n",
    "df_data[\"Job\"] = LabelEncoder().fit_transform(df_data[\"Job\"])\n",
    "df_data[\"Telephone\"] = LabelEncoder().fit_transform(df_data[\"Telephone\"])\n",
    "df_data[\"ForeignWorker\"] = LabelEncoder().fit_transform(df_data[\"ForeignWorker\"])\n",
    "df_data[\"Risk\"] = LabelEncoder().fit_transform(df_data[\"Risk\"])"
   ]
  },
  {
   "cell_type": "code",
   "execution_count": 5,
   "metadata": {},
   "outputs": [
    {
     "name": "stdout",
     "output_type": "stream",
     "text": [
      "Number of records for training: 4000\n",
      "Number of records for evaluation: 1000\n"
     ]
    }
   ],
   "source": [
    "(train_data, test_data) = train_test_split(df_data, test_size = 0.2, stratify = df_data[\"Risk\"])\n",
    "\n",
    "print(\"Number of records for training: \" + str(train_data.shape[0]))\n",
    "print(\"Number of records for evaluation: \" + str(test_data.shape[0]))"
   ]
  },
  {
   "cell_type": "code",
   "execution_count": 6,
   "metadata": {
    "scrolled": true
   },
   "outputs": [],
   "source": [
    "from sklearn.ensemble import RandomForestClassifier"
   ]
  },
  {
   "cell_type": "code",
   "execution_count": 7,
   "metadata": {},
   "outputs": [
    {
     "data": {
      "text/plain": [
       "RandomForestClassifier(bootstrap=True, class_weight=None, criterion='gini',\n",
       "            max_depth=None, max_features='auto', max_leaf_nodes=None,\n",
       "            min_impurity_decrease=0.0, min_impurity_split=None,\n",
       "            min_samples_leaf=1, min_samples_split=2,\n",
       "            min_weight_fraction_leaf=0.0, n_estimators=100, n_jobs=None,\n",
       "            oob_score=False, random_state=None, verbose=0,\n",
       "            warm_start=False)"
      ]
     },
     "execution_count": 7,
     "metadata": {},
     "output_type": "execute_result"
    }
   ],
   "source": [
    "rf = RandomForestClassifier(n_estimators = 100)\n",
    "rf.fit(train_data.loc[:, train_data.columns != \"Risk\"], train_data[\"Risk\"])"
   ]
  },
  {
   "cell_type": "code",
   "execution_count": 8,
   "metadata": {
    "scrolled": true
   },
   "outputs": [
    {
     "name": "stdout",
     "output_type": "stream",
     "text": [
      "areaUnderROC = 0.727424\n"
     ]
    }
   ],
   "source": [
    "from sklearn.metrics import roc_auc_score\n",
    "\n",
    "predictions = rf.predict(test_data.loc[:,test_data.columns != \"Risk\"])\n",
    "area_under_curve = roc_auc_score(test_data[\"Risk\"], predictions)\n",
    "\n",
    "print(\"areaUnderROC = %g\" % area_under_curve)"
   ]
  },
  {
   "cell_type": "markdown",
   "metadata": {},
   "source": [
    "<h4>Publish the model as asset</h4>"
   ]
  },
  {
   "cell_type": "code",
   "execution_count": 9,
   "metadata": {},
   "outputs": [
    {
     "name": "stdout",
     "output_type": "stream",
     "text": [
      "Requirement already satisfied: watson-machine-learning-client-V4 in /cc-home/_global_/python-3.6 (1.0.55)\n",
      "Requirement already satisfied: requests in /opt/conda/envs/Python-3.6/lib/python3.6/site-packages (from watson-machine-learning-client-V4) (2.21.0)\n",
      "Requirement already satisfied: urllib3 in /opt/conda/envs/Python-3.6/lib/python3.6/site-packages (from watson-machine-learning-client-V4) (1.24.1)\n",
      "Requirement already satisfied: pandas in /opt/conda/envs/Python-3.6/lib/python3.6/site-packages (from watson-machine-learning-client-V4) (0.24.1)\n",
      "Requirement already satisfied: certifi in /opt/conda/envs/Python-3.6/lib/python3.6/site-packages (from watson-machine-learning-client-V4) (2019.9.11)\n",
      "Requirement already satisfied: tqdm in /opt/conda/envs/Python-3.6/lib/python3.6/site-packages (from watson-machine-learning-client-V4) (4.31.1)\n",
      "Requirement already satisfied: lomond in /cc-home/_global_/python-3.6 (from watson-machine-learning-client-V4) (0.3.3)\n",
      "Requirement already satisfied: tabulate in /opt/conda/envs/Python-3.6/lib/python3.6/site-packages (from watson-machine-learning-client-V4) (0.8.2)\n",
      "Requirement already satisfied: ibm-cos-sdk in /cc-home/_global_/python-3.6 (from watson-machine-learning-client-V4) (2.5.4)\n",
      "Requirement already satisfied: idna<2.9,>=2.5 in /opt/conda/envs/Python-3.6/lib/python3.6/site-packages (from requests->watson-machine-learning-client-V4) (2.8)\n",
      "Requirement already satisfied: chardet<3.1.0,>=3.0.2 in /opt/conda/envs/Python-3.6/lib/python3.6/site-packages (from requests->watson-machine-learning-client-V4) (3.0.4)\n",
      "Requirement already satisfied: pytz>=2011k in /opt/conda/envs/Python-3.6/lib/python3.6/site-packages (from pandas->watson-machine-learning-client-V4) (2018.9)\n",
      "Requirement already satisfied: python-dateutil>=2.5.0 in /opt/conda/envs/Python-3.6/lib/python3.6/site-packages (from pandas->watson-machine-learning-client-V4) (2.7.5)\n",
      "Requirement already satisfied: numpy>=1.12.0 in /opt/conda/envs/Python-3.6/lib/python3.6/site-packages (from pandas->watson-machine-learning-client-V4) (1.15.4)\n",
      "Requirement already satisfied: six>=1.10.0 in /opt/conda/envs/Python-3.6/lib/python3.6/site-packages (from lomond->watson-machine-learning-client-V4) (1.12.0)\n",
      "Requirement already satisfied: ibm-cos-sdk-core>=2.0.0 in /cc-home/_global_/python-3.6 (from ibm-cos-sdk->watson-machine-learning-client-V4) (2.5.4)\n",
      "Requirement already satisfied: ibm-cos-sdk-s3transfer>=2.0.0 in /cc-home/_global_/python-3.6 (from ibm-cos-sdk->watson-machine-learning-client-V4) (2.5.4)\n",
      "Requirement already satisfied: jmespath<1.0.0,>=0.7.1 in /opt/conda/envs/Python-3.6/lib/python3.6/site-packages (from ibm-cos-sdk->watson-machine-learning-client-V4) (0.9.3)\n",
      "Requirement already satisfied: docutils<0.16,>=0.10 in /opt/conda/envs/Python-3.6/lib/python3.6/site-packages (from ibm-cos-sdk-core>=2.0.0->ibm-cos-sdk->watson-machine-learning-client-V4) (0.14)\n"
     ]
    }
   ],
   "source": [
    "!pip install watson-machine-learning-client-V4"
   ]
  },
  {
   "cell_type": "code",
   "execution_count": 41,
   "metadata": {},
   "outputs": [],
   "source": [
    "import sys,os,os.path\n",
    "token = os.environ['USER_ACCESS_TOKEN']\n",
    "\n",
    "wml_credentials = {\n",
    "    \"token\": token,\n",
    "    \"instance_id\" : \"openshift\",\n",
    "    \"url\": os.environ['RUNTIME_ENV_APSX_URL'],\n",
    "    \"version\": \"2.5.0\"\n",
    "}"
   ]
  },
  {
   "cell_type": "code",
   "execution_count": 42,
   "metadata": {},
   "outputs": [],
   "source": [
    "from watson_machine_learning_client import WatsonMachineLearningAPIClient\n",
    "\n",
    "wml_client = WatsonMachineLearningAPIClient( wml_credentials )"
   ]
  },
  {
   "cell_type": "code",
   "execution_count": 43,
   "metadata": {},
   "outputs": [],
   "source": [
    "MODEL_NAME = \"[DEMO] Credit Risk RF\""
   ]
  },
  {
   "cell_type": "code",
   "execution_count": 44,
   "metadata": {},
   "outputs": [],
   "source": [
    "def guid_from_space_name(client, space_name):\n",
    "    instance_details = client.service_instance.get_details()\n",
    "    space = client.spaces.get_details()\n",
    "    return(next(item for item in space['resources'] if item['entity'][\"name\"] == space_name)['metadata']['guid'])"
   ]
  },
  {
   "cell_type": "code",
   "execution_count": 54,
   "metadata": {},
   "outputs": [
    {
     "name": "stdout",
     "output_type": "stream",
     "text": [
      "Space UID for 'wsl_jupyterlab_demo' is: c83c7529-c9d0-439e-99aa-01e6ca33e6ee\n"
     ]
    }
   ],
   "source": [
    "dep_spacename = 'wsl_jupyterlab_demo'\n",
    "space_uid = guid_from_space_name(wml_client, dep_spacename)\n",
    "print(\"Space UID for '\" + dep_spacename + \"' is: \" + space_uid)"
   ]
  },
  {
   "cell_type": "code",
   "execution_count": 51,
   "metadata": {},
   "outputs": [],
   "source": [
    "meta_props={\n",
    "    wml_client.repository.ModelMetaNames.NAME: \"Credit Risk Scikit\",\n",
    "    wml_client.repository.ModelMetaNames.RUNTIME_UID: \"scikit-learn_0.20-py3.6\",\n",
    "    wml_client.repository.ModelMetaNames.TYPE: \"scikit-learn_0.20\",     \n",
    "    wml_client.repository.ModelMetaNames.SPACE_UID: space_uid\n",
    "}"
   ]
  },
  {
   "cell_type": "code",
   "execution_count": 55,
   "metadata": {},
   "outputs": [
    {
     "data": {
      "text/plain": [
       "'SUCCESS'"
      ]
     },
     "execution_count": 55,
     "metadata": {},
     "output_type": "execute_result"
    }
   ],
   "source": [
    "wml_client.set.default_space(space_uid)"
   ]
  },
  {
   "cell_type": "code",
   "execution_count": 56,
   "metadata": {},
   "outputs": [
    {
     "name": "stdout",
     "output_type": "stream",
     "text": [
      "Model UID = 7882f4ea-b6a7-4fe2-b362-8a1c8950469e\n"
     ]
    }
   ],
   "source": [
    "model_artifact = wml_client.repository.store_model(rf,\n",
    "                                               meta_props=meta_props,\n",
    "                                               training_data=train_data.loc[:, train_data.columns != \"Risk\"],\n",
    "                                               training_target=train_data[\"Risk\"])\n",
    "model_uid = wml_client.repository.get_model_uid(model_artifact)\n",
    "print(\"Model UID = \" + model_uid)"
   ]
  },
  {
   "cell_type": "code",
   "execution_count": 58,
   "metadata": {},
   "outputs": [
    {
     "name": "stdout",
     "output_type": "stream",
     "text": [
      "{'entity': {'content_status': {'state': 'persisted'},\n",
      "            'label_column': 'Risk',\n",
      "            'name': 'Credit Risk Scikit',\n",
      "            'runtime': {'href': '/v4/runtimes/scikit-learn_0.20-py3.6'},\n",
      "            'space': {'href': '/v4/spaces/c83c7529-c9d0-439e-99aa-01e6ca33e6ee'},\n",
      "            'training_data_references': [{'connection': {'access_key_id': 'not_applicable',\n",
      "                                                         'endpoint_url': 'not_applicable',\n",
      "                                                         'secret_access_key': 'not_applicable'},\n",
      "                                          'location': {'bucket': 'not_applicable'},\n",
      "                                          'schema': {'fields': [{'name': 'CheckingStatus',\n",
      "                                                                 'type': 'int64'},\n",
      "                                                                {'name': 'LoanDuration',\n",
      "                                                                 'type': 'int64'},\n",
      "                                                                {'name': 'CreditHistory',\n",
      "                                                                 'type': 'int64'},\n",
      "                                                                {'name': 'LoanPurpose',\n",
      "                                                                 'type': 'int64'},\n",
      "                                                                {'name': 'LoanAmount',\n",
      "                                                                 'type': 'int64'},\n",
      "                                                                {'name': 'ExistingSavings',\n",
      "                                                                 'type': 'int64'},\n",
      "                                                                {'name': 'EmploymentDuration',\n",
      "                                                                 'type': 'int64'},\n",
      "                                                                {'name': 'InstallmentPercent',\n",
      "                                                                 'type': 'int64'},\n",
      "                                                                {'name': 'Sex',\n",
      "                                                                 'type': 'int64'},\n",
      "                                                                {'name': 'OthersOnLoan',\n",
      "                                                                 'type': 'int64'},\n",
      "                                                                {'name': 'CurrentResidenceDuration',\n",
      "                                                                 'type': 'int64'},\n",
      "                                                                {'name': 'OwnsProperty',\n",
      "                                                                 'type': 'int64'},\n",
      "                                                                {'name': 'Age',\n",
      "                                                                 'type': 'int64'},\n",
      "                                                                {'name': 'InstallmentPlans',\n",
      "                                                                 'type': 'int64'},\n",
      "                                                                {'name': 'Housing',\n",
      "                                                                 'type': 'int64'},\n",
      "                                                                {'name': 'ExistingCreditsCount',\n",
      "                                                                 'type': 'int64'},\n",
      "                                                                {'name': 'Job',\n",
      "                                                                 'type': 'int64'},\n",
      "                                                                {'name': 'Dependents',\n",
      "                                                                 'type': 'int64'},\n",
      "                                                                {'name': 'Telephone',\n",
      "                                                                 'type': 'int64'},\n",
      "                                                                {'name': 'ForeignWorker',\n",
      "                                                                 'type': 'int64'}],\n",
      "                                                     'id': '1',\n",
      "                                                     'type': 'DataFrame'},\n",
      "                                          'type': 'fs'}],\n",
      "            'type': 'scikit-learn_0.20'},\n",
      " 'metadata': {'created_at': '2019-12-09T20:38:29.002Z',\n",
      "              'guid': '7882f4ea-b6a7-4fe2-b362-8a1c8950469e',\n",
      "              'href': '/v4/models/7882f4ea-b6a7-4fe2-b362-8a1c8950469e?space_id=c83c7529-c9d0-439e-99aa-01e6ca33e6ee',\n",
      "              'id': '7882f4ea-b6a7-4fe2-b362-8a1c8950469e',\n",
      "              'modified_at': '2019-12-09T20:38:37.002Z',\n",
      "              'owner': '1000331001'}}\n"
     ]
    }
   ],
   "source": [
    "model_details = wml_client.repository.get_details(model_uid)\n",
    "from pprint import pprint\n",
    "pprint(model_details)"
   ]
  }
 ],
 "metadata": {
  "kernelspec": {
   "display_name": "Python 3.6",
   "language": "python",
   "name": "python3"
  },
  "language_info": {
   "codemirror_mode": {
    "name": "ipython",
    "version": 3
   },
   "file_extension": ".py",
   "mimetype": "text/x-python",
   "name": "python",
   "nbconvert_exporter": "python",
   "pygments_lexer": "ipython3",
   "version": "3.6.8"
  }
 },
 "nbformat": 4,
 "nbformat_minor": 4
}
